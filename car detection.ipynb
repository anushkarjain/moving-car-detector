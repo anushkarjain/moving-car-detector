{
 "cells": [
  {
   "cell_type": "code",
   "execution_count": 7,
   "metadata": {
    "id": "BqXSO4oPyE2s"
   },
   "outputs": [],
   "source": [
    "import cv2"
   ]
  },
  {
   "cell_type": "code",
   "execution_count": 8,
   "metadata": {
    "id": "zdg4vj5vzmVI"
   },
   "outputs": [],
   "source": [
    "cascade_src=\"E:/New folder (2)/car haar cascade/cars.xml\""
   ]
  },
  {
   "cell_type": "code",
   "execution_count": 9,
   "metadata": {
    "id": "0_nb1qwkz2lA"
   },
   "outputs": [],
   "source": [
    "video_src = \"C:/Users/anush/Downloads/video.avi\""
   ]
  },
  {
   "cell_type": "code",
   "execution_count": 10,
   "metadata": {},
   "outputs": [],
   "source": [
    "import numpy as np\n",
    "from matplotlib import pyplot as plt\n"
   ]
  },
  {
   "cell_type": "code",
   "execution_count": 11,
   "metadata": {
    "id": "NrMTJB2P0Ek4"
   },
   "outputs": [],
   "source": [
    "cap = cv2.VideoCapture(video_src)\n",
    "\n",
    "car_cascade = cv2.CascadeClassifier(cascade_src)"
   ]
  },
  {
   "cell_type": "code",
   "execution_count": 12,
   "metadata": {
    "colab": {
     "base_uri": "https://localhost:8080/",
     "height": 1000
    },
    "id": "nbLTe80y0GHs",
    "outputId": "2b2b88d9-2744-468c-d872-bdfc755c47f4"
   },
   "outputs": [],
   "source": [
    "while True:\n",
    "    ret, img = cap.read()\n",
    "   \n",
    "    if (type(img) == type(None)):\n",
    "        break\n",
    "        \n",
    "    gray = cv2.cvtColor(img, cv2.COLOR_BGR2GRAY)\n",
    "    \n",
    "    #img = cv.imread(gray,1)\n",
    "    gaus = cv2.GaussianBlur(gray,(5,5),0)\n",
    "    #img = cv.imread(gaus)\n",
    "    \n",
    "    plt.show()\n",
    "    #cars = car_cascade.detectMultiScale(gray, 1.1, 2)\n",
    "    cars = car_cascade.detectMultiScale(gaus, 1.1, 2)\n",
    "\n",
    "\n",
    "    for (x,y,w,h) in cars:\n",
    "        cv2.rectangle(gaus,(x,y),(x+w,y+h),(0,255,255),2)\n",
    "    \n",
    "    cv2.imshow('Detecting...',gaus)\n",
    "   \n",
    "    \n",
    "    if cv2.waitKey(33) == 27:\n",
    "        break\n",
    "\n",
    "cv2.destroyAllWindows()\n",
    "cap.release()"
   ]
  },
  {
   "cell_type": "code",
   "execution_count": null,
   "metadata": {},
   "outputs": [],
   "source": []
  }
 ],
 "metadata": {
  "colab": {
   "name": "Copy of Vehicle Detection.ipynb",
   "provenance": []
  },
  "kernelspec": {
   "display_name": "env",
   "language": "python",
   "name": "env"
  },
  "language_info": {
   "codemirror_mode": {
    "name": "ipython",
    "version": 3
   },
   "file_extension": ".py",
   "mimetype": "text/x-python",
   "name": "python",
   "nbconvert_exporter": "python",
   "pygments_lexer": "ipython3",
   "version": "3.8.2"
  }
 },
 "nbformat": 4,
 "nbformat_minor": 1
}
